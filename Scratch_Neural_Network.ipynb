{
 "cells": [
  {
   "cell_type": "markdown",
   "metadata": {},
   "source": [
    "# Vanilla Neural Network Classifier"
   ]
  },
  {
   "cell_type": "markdown",
   "metadata": {},
   "source": [
    "Implementing from scratch Neural Network with Dropout and L2 regularization option, simple study case on breast cancer dataset. All functions used are coded from scratch."
   ]
  },
  {
   "cell_type": "code",
   "execution_count": 7,
   "metadata": {
    "collapsed": true
   },
   "outputs": [],
   "source": [
    "import numpy as np\n",
    "import matplotlib.pyplot as plt\n",
    "from sklearn.datasets import load_breast_cancer\n",
    "import NN_functions as NN\n",
    "import Sorelz_tools as ST"
   ]
  },
  {
   "cell_type": "code",
   "execution_count": 8,
   "metadata": {
    "collapsed": true
   },
   "outputs": [],
   "source": [
    "X=load_breast_cancer()[\"data\"]\n",
    "y=load_breast_cancer()[\"target\"]"
   ]
  },
  {
   "cell_type": "code",
   "execution_count": 9,
   "metadata": {
    "collapsed": true
   },
   "outputs": [],
   "source": [
    "X_train,X_dev,y_train,y_dev=ST.scratch_split(X,y,test_pct=0.2,seed=26)"
   ]
  },
  {
   "cell_type": "code",
   "execution_count": 10,
   "metadata": {
    "collapsed": true
   },
   "outputs": [],
   "source": [
    "X_train,f_mean,f_std=ST.standardize_fit_transform(X_train)\n",
    "X_dev=ST.standardize_transform(X_dev,f_mean,f_std)"
   ]
  },
  {
   "cell_type": "code",
   "execution_count": 11,
   "metadata": {},
   "outputs": [
    {
     "name": "stdout",
     "output_type": "stream",
     "text": [
      "Shape X_train: (30, 456), Shape X_dev: (30, 113)\n",
      "Shape y_train: (1, 456), Shape y_dev: (1, 113)\n"
     ]
    }
   ],
   "source": [
    "#Reshape for the format (n_x,m)  n_x variables, m number of observations\n",
    "X_train=X_train.T\n",
    "X_dev=X_dev.T\n",
    "y_train=y_train.reshape(1,X_train.shape[1])\n",
    "y_dev=y_dev.reshape(1,X_dev.shape[1])\n",
    "\n",
    "print (\"Shape X_train: {}, Shape X_dev: {}\".format(X_train.shape,X_dev.shape))\n",
    "print (\"Shape y_train: {}, Shape y_dev: {}\".format(y_train.shape,y_dev.shape))"
   ]
  },
  {
   "cell_type": "code",
   "execution_count": 12,
   "metadata": {
    "collapsed": true
   },
   "outputs": [],
   "source": [
    "def Fitting(X,Y,layers,activation,learning_rate = 0.00175, num_iterations = 3000, print_cost=True,seed=10):\n",
    "    \"\"\"\n",
    "    Implements a L-layer neural network\n",
    "    \"\"\"\n",
    "    costs = []                         # keep track of cost\n",
    "    \n",
    "    params = NN.initialize_parameters_deep(layers,seed)\n",
    "    for i in range(0, num_iterations):\n",
    "        #forward prop\n",
    "        AL, caches = NN.prop_forward(X,params,activation)\n",
    "        cost = NN.compute_cost(AL,Y,params)\n",
    "\n",
    "        #backward prop\n",
    "        grads = NN.prop_backward(AL,Y,caches,activation)\n",
    " \n",
    "        # Updating parameters\n",
    "        params = NN.update_parameters(params,grads,learning_rate)\n",
    "                \n",
    "        # Print the cost every 100 training example\n",
    "        if print_cost and i % 500 == 0:\n",
    "            print (\"Cost after iteration %i: %f\" %(i, cost))\n",
    "        costs.append(cost)\n",
    "    \n",
    "    return params,costs"
   ]
  },
  {
   "cell_type": "code",
   "execution_count": 13,
   "metadata": {
    "scrolled": true
   },
   "outputs": [
    {
     "name": "stdout",
     "output_type": "stream",
     "text": [
      "4 Layers parameters init\n",
      "Cost after iteration 0: 0.824385\n",
      "Cost after iteration 500: 0.113351\n",
      "Cost after iteration 1000: 0.084111\n",
      "Cost after iteration 1500: 0.069561\n",
      "Cost after iteration 2000: 0.059449\n",
      "Cost after iteration 2500: 0.052110\n",
      "Cost after iteration 3000: 0.046218\n",
      "Cost after iteration 3500: 0.040821\n",
      "Cost after iteration 4000: 0.035957\n",
      "Cost after iteration 4500: 0.031891\n",
      "Cost after iteration 5000: 0.028410\n",
      "Cost after iteration 5500: 0.025359\n",
      "Cost after iteration 6000: 0.022757\n",
      "Cost after iteration 6500: 0.020466\n",
      "Cost after iteration 7000: 0.018506\n",
      "Cost after iteration 7500: 0.016838\n",
      "Cost after iteration 8000: 0.015374\n",
      "Cost after iteration 8500: 0.014101\n",
      "Cost after iteration 9000: 0.012996\n",
      "Cost after iteration 9500: 0.011976\n"
     ]
    }
   ],
   "source": [
    "lr=0.001\n",
    "activation=\"relu\"\n",
    "final_params,cost=Fitting(X_train,y_train,[X_train.shape[0],15,4,1],activation,learning_rate=lr,num_iterations=10000)"
   ]
  },
  {
   "cell_type": "code",
   "execution_count": 14,
   "metadata": {
    "collapsed": true
   },
   "outputs": [],
   "source": [
    "def Predict(X_test,params):\n",
    "    L=len(params)//2\n",
    "    y_pred_prob=NN.prop_forward(X_test,params,activation)[0]\n",
    "    y_pred_classes=y_pred_prob>0.5\n",
    "    return(y_pred_prob,y_pred_classes)"
   ]
  },
  {
   "cell_type": "code",
   "execution_count": 15,
   "metadata": {
    "collapsed": true
   },
   "outputs": [],
   "source": [
    "y_pred_prob,y_pred_classes=Predict(X_dev,final_params)"
   ]
  },
  {
   "cell_type": "code",
   "execution_count": 19,
   "metadata": {},
   "outputs": [
    {
     "name": "stdout",
     "output_type": "stream",
     "text": [
      "MSE on the dev set 0.1024875102990507\n"
     ]
    }
   ],
   "source": [
    "mse_dev=NN.compute_cost(y_pred_prob,y_dev,final_params)\n",
    "print(\"MSE on the dev set {}\".format(np.squeeze(mse_dev)))"
   ]
  },
  {
   "cell_type": "code",
   "execution_count": null,
   "metadata": {
    "collapsed": true
   },
   "outputs": [],
   "source": []
  },
  {
   "cell_type": "code",
   "execution_count": 11,
   "metadata": {},
   "outputs": [
    {
     "data": {
      "text/plain": [
       "0.96460176991150437"
      ]
     },
     "execution_count": 11,
     "metadata": {},
     "output_type": "execute_result"
    }
   ],
   "source": [
    "acc_dev=ST.accuracy(y_pred_classes,y_test)"
   ]
  },
  {
   "cell_type": "code",
   "execution_count": 40,
   "metadata": {},
   "outputs": [
    {
     "data": {
      "image/png": "[encoded data removed]",
      "text/plain": [
       "<matplotlib.figure.Figure at 0x1112a27f0>"
      ]
     },
     "metadata": {},
     "output_type": "display_data"
    }
   ],
   "source": [
    "plt.plot(np.squeeze(cost))\n",
    "plt.ylabel('cost')\n",
    "plt.xlabel('iterations (per tens)')\n",
    "plt.title(\"Learning rate =\" + str(lr))\n",
    "plt.show()"
   ]
  },
  {
   "cell_type": "code",
   "execution_count": null,
   "metadata": {
    "collapsed": true
   },
   "outputs": [],
   "source": []
  }
 ],
 "metadata": {
  "kernelspec": {
   "display_name": "Python 3",
   "language": "python",
   "name": "python3"
  },
  "language_info": {
   "codemirror_mode": {
    "name": "ipython",
    "version": 3
   },
   "file_extension": ".py",
   "mimetype": "text/x-python",
   "name": "python",
   "nbconvert_exporter": "python",
   "pygments_lexer": "ipython3",
   "version": "3.6.3"
  }
 },
 "nbformat": 4,
 "nbformat_minor": 2
}
